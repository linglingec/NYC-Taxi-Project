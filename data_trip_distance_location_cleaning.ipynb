{
 "cells": [
  {
   "cell_type": "markdown",
   "source": [
    "# Importing libraries"
   ],
   "metadata": {
    "collapsed": false
   }
  },
  {
   "cell_type": "code",
   "execution_count": 0,
   "outputs": [],
   "source": [
    "import pandas as pd\n",
    "import pyarrow.parquet as pq"
   ],
   "metadata": {
    "collapsed": false
   }
  },
  {
   "cell_type": "markdown",
   "source": [
    "# Read in the data and combine all months into one dataframe\n",
    "Note: This step does not make sense before the datatime attributes are properly cleaned (e.g. data of May in January)"
   ],
   "metadata": {
    "collapsed": false
   }
  },
  {
   "cell_type": "code",
   "execution_count": 1,
   "outputs": [],
   "source": [
    "# function that reads in a parquet file (based on month) and returns a pandas dataframe\n",
    "def read_trips(path, month):\n",
    "    mon = month\n",
    "    if mon < 10:\n",
    "        mon = '0' + str(mon)\n",
    "    else:\n",
    "        mon = str(mon)\n",
    "    trips = pq.read_table(path + mon + '.parquet')\n",
    "    trips = trips.to_pandas()\n",
    "    return trips\n",
    "\n",
    "\n",
    "# concatenate all of the month-based dataframes into one dataframe - import all trips = pq.read_table('./data/test/yellow_tripdata_2022-xx.parquet')\n",
    "all_trips = pd.DataFrame()\n",
    "for i in range(12):\n",
    "    all_trips = pd.concat([all_trips, read_trips('./data/yellow_tripdata_2022-', i + 1)])\n",
    "\n",
    "original_data_length = all_trips.shape[0]\n",
    "# keep copy of original data\n",
    "all_trips_original = all_trips.copy()"
   ],
   "metadata": {
    "collapsed": false,
    "ExecuteTime": {
     "end_time": "2023-12-11T16:40:24.499271500Z",
     "start_time": "2023-12-11T16:39:24.974564800Z"
    }
   }
  },
  {
   "cell_type": "markdown",
   "source": [
    "# Drop duplicates and unrealistic trip distances entries (<=0, >70)"
   ],
   "metadata": {
    "collapsed": false
   }
  },
  {
   "cell_type": "code",
   "execution_count": 2,
   "outputs": [
    {
     "name": "stdout",
     "output_type": "stream",
     "text": [
      "(39656098, 19)\n",
      "   VendorID tpep_pickup_datetime tpep_dropoff_datetime  passenger_count  \\\n",
      "0         1  2022-01-01 00:35:40   2022-01-01 00:53:29              2.0   \n",
      "1         1  2022-01-01 00:33:43   2022-01-01 00:42:07              1.0   \n",
      "2         2  2022-01-01 00:53:21   2022-01-01 01:02:19              1.0   \n",
      "3         2  2022-01-01 00:25:21   2022-01-01 00:35:23              1.0   \n",
      "4         2  2022-01-01 00:36:48   2022-01-01 01:14:20              1.0   \n",
      "\n",
      "   trip_distance  RatecodeID store_and_fwd_flag  PULocationID  DOLocationID  \\\n",
      "0           3.80         1.0                  N           142           236   \n",
      "1           2.10         1.0                  N           236            42   \n",
      "2           0.97         1.0                  N           166           166   \n",
      "3           1.09         1.0                  N           114            68   \n",
      "4           4.30         1.0                  N            68           163   \n",
      "\n",
      "   payment_type  fare_amount  extra  mta_tax  tip_amount  tolls_amount  \\\n",
      "0             1         14.5    3.0      0.5        3.65           0.0   \n",
      "1             1          8.0    0.5      0.5        4.00           0.0   \n",
      "2             1          7.5    0.5      0.5        1.76           0.0   \n",
      "3             2          8.0    0.5      0.5        0.00           0.0   \n",
      "4             1         23.5    0.5      0.5        3.00           0.0   \n",
      "\n",
      "   improvement_surcharge  total_amount  congestion_surcharge  airport_fee  \n",
      "0                    0.3         21.95                   2.5          0.0  \n",
      "1                    0.3         13.30                   0.0          0.0  \n",
      "2                    0.3         10.56                   0.0          0.0  \n",
      "3                    0.3         11.80                   2.5          0.0  \n",
      "4                    0.3         30.30                   2.5          0.0  \n",
      "after removing duplicates\n",
      "Removed rows:  1\n",
      "Removed rows %:  2.5216802722244637e-06 %\n",
      "(39656097, 19)\n",
      "after removing unrealistic trip distances (<=0, >70)\n",
      "(39079582, 19)\n",
      "Removed rows:  576515\n",
      "Removed rows %:  1.453786538801335 %\n"
     ]
    }
   ],
   "source": [
    "# save current length of dataframe\n",
    "current_length = all_trips.shape[0]\n",
    "\n",
    "\n",
    "# check the shape of the dataframe and first 5 rows\n",
    "print(all_trips_original.shape)\n",
    "print(all_trips_original.head())\n",
    "\n",
    "# remove duplicates\n",
    "all_trips.drop_duplicates(inplace=True)\n",
    "\n",
    "print('after removing duplicates')\n",
    "# check how many rows were removed\n",
    "print('Removed rows: ', original_data_length - all_trips.shape[0])\n",
    "# in percent\n",
    "print('Removed rows %: ', (original_data_length - all_trips.shape[0]) / original_data_length * 100, '%')\n",
    "\n",
    "# check the shape of the dataframe\n",
    "print(all_trips.shape)\n",
    "\n",
    "# save current length of dataframe\n",
    "current_length = all_trips.shape[0]\n",
    "\n",
    "# filter trips with trip_distance > 0 and <=70\n",
    "# 35 miles is the maximum distance between two points in New York City,\n",
    "# so from a practical point of view, we can assume that the maximum distance of a taxi ride is 70 miles\n",
    "all_trips = all_trips[(all_trips['trip_distance'] > 0) & (all_trips['trip_distance'] <= 70)]\n",
    "\n",
    "# check the shape of the dataframe - how many rows were removed?\n",
    "print('after removing unrealistic trip distances (<=0, >70)')\n",
    "# check the shape of the dataframe - how many rows were removed?\n",
    "print(all_trips.shape)\n",
    "print('Removed rows: ', current_length - all_trips.shape[0])\n",
    "# in percent\n",
    "print('Removed rows %: ', (current_length - all_trips.shape[0]) / current_length * 100, '%')"
   ],
   "metadata": {
    "collapsed": false,
    "ExecuteTime": {
     "end_time": "2023-12-11T16:42:21.697263200Z",
     "start_time": "2023-12-11T16:40:24.523271100Z"
    }
   }
  },
  {
   "cell_type": "markdown",
   "source": [
    "# Check location attributes - location ids (PULocationID, DOLocationID)\n",
    "What location ids are used? Are there any missing ones?"
   ],
   "metadata": {
    "collapsed": false
   }
  },
  {
   "cell_type": "code",
   "execution_count": 3,
   "outputs": [
    {
     "name": "stdout",
     "output_type": "stream",
     "text": [
      "##### unique_pickup_location_ids #####\n",
      "     PULocationID\n",
      "0               1\n",
      "1               2\n",
      "2               3\n",
      "3               4\n",
      "4               5\n",
      "..            ...\n",
      "257           261\n",
      "258           262\n",
      "259           263\n",
      "260           264\n",
      "261           265\n",
      "\n",
      "[262 rows x 1 columns]\n",
      "##### unique_dropoff_location_ids #####\n",
      "     DOLocationID\n",
      "0               1\n",
      "1               2\n",
      "2               3\n",
      "3               4\n",
      "4               5\n",
      "..            ...\n",
      "257           261\n",
      "258           262\n",
      "259           263\n",
      "260           264\n",
      "261           265\n",
      "\n",
      "[262 rows x 1 columns]\n",
      "##### missing_pickup_location_ids #####\n",
      "   PULocationID\n",
      "0           103\n",
      "1           104\n",
      "2           110\n",
      "##### missing_dropoff_location_ids #####\n",
      "   DOLocationID\n",
      "0           103\n",
      "1           104\n",
      "2           199\n"
     ]
    }
   ],
   "source": [
    "# get a list of all used pickup and drop-off location ids\n",
    "# use the unique() function\n",
    "# sort the list\n",
    "# convert the list to a dataframe\n",
    "\n",
    "unique_pickup_location_ids = all_trips['PULocationID'].unique()\n",
    "unique_pickup_location_ids.sort()\n",
    "unique_pickup_location_ids = pd.DataFrame(unique_pickup_location_ids, columns=['PULocationID'])\n",
    "\n",
    "unique_dropoff_location_ids = all_trips['DOLocationID'].unique()\n",
    "unique_dropoff_location_ids.sort()\n",
    "unique_dropoff_location_ids = pd.DataFrame(unique_dropoff_location_ids, columns=['DOLocationID'])\n",
    "\n",
    "# which ones are missing? (between 1 and 263)\n",
    "# use the set() function to get the difference between the two lists\n",
    "# convert the result to a list\n",
    "# sort the list\n",
    "# convert the list to a dataframe\n",
    "missing_pickup_location_ids = list(set(range(1, 264)) - set(unique_pickup_location_ids['PULocationID']))\n",
    "missing_pickup_location_ids.sort()\n",
    "missing_pickup_location_ids = pd.DataFrame(missing_pickup_location_ids, columns=['PULocationID'])\n",
    "\n",
    "missing_dropoff_location_ids = list(set(range(1, 264)) - set(unique_dropoff_location_ids['DOLocationID']))\n",
    "missing_dropoff_location_ids.sort()\n",
    "missing_dropoff_location_ids = pd.DataFrame(missing_dropoff_location_ids, columns=['DOLocationID'])\n",
    "\n",
    "# print the lists\n",
    "print(\"##### missing_pickup_location_ids #####\")\n",
    "print(missing_pickup_location_ids)\n",
    "print(\"##### missing_dropoff_location_ids #####\")\n",
    "print(missing_dropoff_location_ids)\n"
   ],
   "metadata": {
    "collapsed": false,
    "ExecuteTime": {
     "end_time": "2023-12-11T16:42:22.662023600Z",
     "start_time": "2023-12-11T16:42:21.325733200Z"
    }
   }
  },
  {
   "cell_type": "markdown",
   "source": [
    "# Clean location attributes (PULocationID, DOLocationID)"
   ],
   "metadata": {
    "collapsed": false
   }
  },
  {
   "cell_type": "code",
   "execution_count": null,
   "outputs": [],
   "source": [
    "# save current length of dataframe\n",
    "current_length = all_trips.shape[0]\n",
    "\n",
    "# filter trips with unknown location ids (pickup or drop-off)\n",
    "# according to the data dictionary, the location ids are between 1 and 263, 264 is unknown and 265 is unknown\n",
    "\n",
    "# filter trips with unknown pickup location id\n",
    "all_trips = all_trips[all_trips['PULocationID'] < 264]\n",
    "# filter trips with unknown drop-off location id\n",
    "all_trips = all_trips[all_trips['DOLocationID'] < 264]\n",
    "\n",
    "# check the shape of the dataframe - how many rows were removed?\n",
    "print('after removing trips with unknown pickup or drop-off location id')\n",
    "print(all_trips.shape)\n",
    "print('Removed rows: ', current_length - all_trips.shape[0])\n",
    "# in percent\n",
    "print('Removed rows %: ', (current_length - all_trips.shape[0]) / current_length * 100, '%')\n",
    "\n",
    "# save current length of dataframe\n",
    "current_length = all_trips.shape[0]\n",
    "\n",
    "# also filter trips with location id 0\n",
    "all_trips = all_trips[all_trips['PULocationID'] > 0]\n",
    "all_trips = all_trips[all_trips['DOLocationID'] > 0]\n",
    "\n",
    "# check the shape of the dataframe - how many rows were removed?\n",
    "print('after removing trips with location id 0')\n",
    "print(all_trips.shape)\n",
    "print('Removed rows: ', current_length - all_trips.shape[0])\n",
    "# in percent\n",
    "print('Removed rows %: ', (current_length - all_trips.shape[0]) / current_length * 100, '%')\n"
   ],
   "metadata": {
    "collapsed": false,
    "is_executing": true,
    "ExecuteTime": {
     "start_time": "2023-12-11T16:42:22.444605800Z"
    }
   }
  },
  {
   "cell_type": "markdown",
   "source": [
    "# Quick overview of the data cleaning (trip_distance, PULocationID, DOLocationID)"
   ],
   "metadata": {
    "collapsed": false
   }
  },
  {
   "cell_type": "code",
   "execution_count": null,
   "outputs": [],
   "source": [
    "# total difference in rows removed\n",
    "print('Total removed rows so far: ', original_data_length - all_trips.shape[0])\n",
    "# in percent\n",
    "print('Total removed rows %: ', (original_data_length - all_trips.shape[0]) / original_data_length * 100, '%')"
   ],
   "metadata": {
    "collapsed": false,
    "is_executing": true
   }
  }
 ],
 "metadata": {
  "kernelspec": {
   "display_name": "Python 3",
   "language": "python",
   "name": "python3"
  },
  "language_info": {
   "codemirror_mode": {
    "name": "ipython",
    "version": 2
   },
   "file_extension": ".py",
   "mimetype": "text/x-python",
   "name": "python",
   "nbconvert_exporter": "python",
   "pygments_lexer": "ipython2",
   "version": "2.7.6"
  }
 },
 "nbformat": 4,
 "nbformat_minor": 0
}
