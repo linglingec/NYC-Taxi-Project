{
 "cells": [
  {
   "cell_type": "code",
   "execution_count": 1,
   "metadata": {
    "collapsed": true,
    "ExecuteTime": {
     "end_time": "2024-01-20T23:28:31.635361800Z",
     "start_time": "2024-01-20T23:28:27.470150700Z"
    }
   },
   "outputs": [],
   "source": [
    "from ydata_profiling import ProfileReport\n",
    "import pyarrow.parquet as pq\n",
    "from pathlib import Path\n",
    "\n",
    "DATA_PATH = Path(\"..\", \"data\", \"cleaned_data\")\n",
    "FILE_PATH = DATA_PATH / \"cleaned_data_all.parquet\"\n",
    "\n",
    "def import_cleaned_data():\n",
    "    # Import cleaned data\n",
    "    data = pq.read_table(FILE_PATH)\n",
    "\n",
    "    # Convert to pandas dataframe\n",
    "    return data.to_pandas()\n",
    "trips = import_cleaned_data()"
   ]
  },
  {
   "cell_type": "code",
   "execution_count": 2,
   "outputs": [
    {
     "data": {
      "text/plain": "Summarize dataset:   0%|          | 0/5 [00:00<?, ?it/s]",
      "application/vnd.jupyter.widget-view+json": {
       "version_major": 2,
       "version_minor": 0,
       "model_id": "3b63a3c3326a4f38803d47c74bb265c4"
      }
     },
     "metadata": {},
     "output_type": "display_data"
    },
    {
     "name": "stderr",
     "output_type": "stream",
     "text": [
      "\n",
      "KeyboardInterrupt\n",
      "\n"
     ]
    }
   ],
   "source": [
    "profile = ProfileReport(trips, title=\"Profiling Report\").to_file(\"output.html\")"
   ],
   "metadata": {
    "collapsed": false,
    "ExecuteTime": {
     "end_time": "2024-01-20T23:37:48.043688500Z",
     "start_time": "2024-01-20T23:28:31.635361800Z"
    }
   }
  }
 ],
 "metadata": {
  "kernelspec": {
   "display_name": "Python 3",
   "language": "python",
   "name": "python3"
  },
  "language_info": {
   "codemirror_mode": {
    "name": "ipython",
    "version": 2
   },
   "file_extension": ".py",
   "mimetype": "text/x-python",
   "name": "python",
   "nbconvert_exporter": "python",
   "pygments_lexer": "ipython2",
   "version": "2.7.6"
  }
 },
 "nbformat": 4,
 "nbformat_minor": 0
}
