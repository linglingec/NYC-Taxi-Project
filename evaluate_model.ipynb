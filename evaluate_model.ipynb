{
 "cells": [
  {
   "cell_type": "code",
   "execution_count": 1,
   "metadata": {
    "collapsed": true,
    "ExecuteTime": {
     "end_time": "2024-01-20T23:38:22.042400900Z",
     "start_time": "2024-01-20T23:36:26.561951Z"
    }
   },
   "outputs": [
    {
     "name": "stdout",
     "output_type": "stream",
     "text": [
      "RandomForestRegressor(verbose=1)\n"
     ]
    }
   ],
   "source": [
    "# import the necessary libraries\n",
    "import pandas as pd\n",
    "import pickle\n",
    "import pyarrow.parquet as pq\n",
    "from pathlib import Path\n",
    "\n",
    "DATA_PATH = Path(\".\", \"data\", \"cleaned_data\")\n",
    "FILE_PATH = DATA_PATH / \"cleaned_data_all.parquet\"\n",
    "\n",
    "# read in the model.pkl file\n",
    "with open('model.pkl', 'rb') as f:\n",
    "    model = pickle.load(f)\n",
    "\n",
    "# print the info of the model\n",
    "print(model)"
   ]
  },
  {
   "cell_type": "code",
   "execution_count": 2,
   "outputs": [],
   "source": [
    "def import_cleaned_data():\n",
    "    # Import cleaned data\n",
    "    data = pq.read_table(FILE_PATH)\n",
    "\n",
    "    # Convert to pandas dataframe\n",
    "    return data.to_pandas()\n",
    "data = import_cleaned_data()"
   ],
   "metadata": {
    "collapsed": false,
    "ExecuteTime": {
     "end_time": "2024-01-20T23:38:28.388424700Z",
     "start_time": "2024-01-20T23:38:26.960032300Z"
    }
   }
  },
  {
   "cell_type": "code",
   "execution_count": 3,
   "outputs": [
    {
     "name": "stdout",
     "output_type": "stream",
     "text": [
      "(37700420, 15)\n",
      "(37700420, 12)\n"
     ]
    }
   ],
   "source": [
    "print(data.shape)\n",
    "data = data.drop([\"trip_duration\", \"tpep_pickup_datetime\", \"tpep_dropoff_datetime\"], axis=1)\n",
    "print(data.shape)"
   ],
   "metadata": {
    "collapsed": false,
    "ExecuteTime": {
     "end_time": "2024-01-20T23:38:30.672433100Z",
     "start_time": "2024-01-20T23:38:30.201823200Z"
    }
   }
  },
  {
   "cell_type": "code",
   "execution_count": 4,
   "outputs": [
    {
     "name": "stdout",
     "output_type": "stream",
     "text": [
      "trip_distance = 0.7387022034871845\n",
      "PULocationID = 0.03696383622529527\n",
      "DOLocationID = 0.04259964381314362\n",
      "pickup_is_holiday = 0.0\n",
      "pickup_year = 0.0\n",
      "pickup_month = 0.0\n",
      "pickup_day = 0.002130941200135553\n",
      "pickup_hour = 0.01099988293548242\n",
      "pickup_day_of_week = 0.04224909820120339\n",
      "pickup_week = 0.009783270491205358\n",
      "pickup_is_weekend = 0.0053792247470854935\n",
      "pickup_day_of_year = 0.0035174320689924294\n"
     ]
    }
   ],
   "source": [
    "\n",
    "for name, importance in zip(data.columns, model.feature_importances_):\n",
    "     print(name, \"=\", importance)"
   ],
   "metadata": {
    "collapsed": false,
    "ExecuteTime": {
     "end_time": "2024-01-20T23:39:40.970060400Z",
     "start_time": "2024-01-20T23:38:32.508565300Z"
    }
   }
  },
  {
   "cell_type": "code",
   "execution_count": null,
   "outputs": [],
   "source": [],
   "metadata": {
    "collapsed": false
   }
  }
 ],
 "metadata": {
  "kernelspec": {
   "display_name": "Python 3",
   "language": "python",
   "name": "python3"
  },
  "language_info": {
   "codemirror_mode": {
    "name": "ipython",
    "version": 2
   },
   "file_extension": ".py",
   "mimetype": "text/x-python",
   "name": "python",
   "nbconvert_exporter": "python",
   "pygments_lexer": "ipython2",
   "version": "2.7.6"
  }
 },
 "nbformat": 4,
 "nbformat_minor": 0
}
