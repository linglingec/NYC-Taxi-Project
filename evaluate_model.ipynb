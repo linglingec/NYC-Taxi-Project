{
 "cells": [
  {
   "cell_type": "code",
   "execution_count": 1,
   "metadata": {
    "collapsed": true,
    "ExecuteTime": {
     "end_time": "2024-01-12T09:05:38.310087300Z",
     "start_time": "2024-01-12T09:03:46.280814200Z"
    }
   },
   "outputs": [
    {
     "name": "stdout",
     "output_type": "stream",
     "text": [
      "RandomForestRegressor(verbose=1)\n"
     ]
    }
   ],
   "source": [
    "# import the necessary libraries\n",
    "import pandas as pd\n",
    "import pickle\n",
    "import pyarrow.parquet as pq\n",
    "from pathlib import Path\n",
    "\n",
    "DATA_PATH = Path(\".\", \"data\", \"cleaned_data\")\n",
    "FILE_PATH = DATA_PATH / \"cleaned_data_all.parquet\"\n",
    "\n",
    "# read in the model.pkl file\n",
    "with open('model.pkl', 'rb') as f:\n",
    "    model = pickle.load(f)\n",
    "\n",
    "# print the info of the model\n",
    "print(model)"
   ]
  },
  {
   "cell_type": "code",
   "execution_count": 6,
   "outputs": [],
   "source": [
    "def import_cleaned_data():\n",
    "    # Import cleaned data\n",
    "    data = pq.read_table(FILE_PATH)\n",
    "\n",
    "    # Convert to pandas dataframe\n",
    "    return data.to_pandas()\n",
    "data = import_cleaned_data()"
   ],
   "metadata": {
    "collapsed": false,
    "ExecuteTime": {
     "end_time": "2024-01-08T10:25:00.069624200Z",
     "start_time": "2024-01-08T10:24:57.412086200Z"
    }
   }
  },
  {
   "cell_type": "code",
   "execution_count": 9,
   "outputs": [
    {
     "name": "stdout",
     "output_type": "stream",
     "text": [
      "(37700420, 25)\n",
      "(37700420, 22)\n"
     ]
    }
   ],
   "source": [
    "print(data.shape)\n",
    "data = data.drop([\"trip_duration\", \"tpep_pickup_datetime\", \"tpep_dropoff_datetime\"], axis=1)\n",
    "print(data.shape)"
   ],
   "metadata": {
    "collapsed": false,
    "ExecuteTime": {
     "end_time": "2024-01-08T10:26:17.566952100Z",
     "start_time": "2024-01-08T10:26:16.224304600Z"
    }
   }
  },
  {
   "cell_type": "code",
   "execution_count": 10,
   "outputs": [
    {
     "name": "stdout",
     "output_type": "stream",
     "text": [
      "trip_distance = 0.769265909863463\n",
      "PULocationID = 6.447322585471631e-06\n",
      "DOLocationID = 7.79293199852566e-06\n",
      "pickup_is_holiday = 0.0\n",
      "dropoff_is_holiday = 0.0\n",
      "pickup_year = 0.0\n",
      "pickup_month = 1.6574660922524303e-06\n",
      "pickup_day = 6.411914116625958e-06\n",
      "pickup_hour = 7.238274903882415e-06\n",
      "pickup_day_of_week = 3.0697113815445284e-06\n",
      "pickup_week = 2.790959201950755e-06\n",
      "pickup_is_weekend = 6.754640447318477e-07\n",
      "pickup_day_of_year = 3.672228864816742e-06\n",
      "dropoff_year = 0.0\n",
      "dropoff_month = 1.6054383867464777e-06\n",
      "dropoff_day = 5.811276622208919e-06\n",
      "dropoff_hour = 4.761428490980316e-06\n",
      "dropoff_day_of_week = 3.2853673988638385e-06\n",
      "dropoff_week = 2.9725327202375343e-06\n",
      "dropoff_is_weekend = 4.4993431200825124e-07\n",
      "dropoff_day_of_year = 3.006892218925131e-06\n",
      "velocity = 0.2306724409931974\n"
     ]
    }
   ],
   "source": [
    "\n",
    "for name, importance in zip(data.columns, model.feature_importances_):\n",
    "     print(name, \"=\", importance)"
   ],
   "metadata": {
    "collapsed": false,
    "ExecuteTime": {
     "end_time": "2024-01-08T10:26:44.004297400Z",
     "start_time": "2024-01-08T10:26:28.902937500Z"
    }
   }
  },
  {
   "cell_type": "code",
   "execution_count": null,
   "outputs": [],
   "source": [],
   "metadata": {
    "collapsed": false
   }
  }
 ],
 "metadata": {
  "kernelspec": {
   "display_name": "Python 3",
   "language": "python",
   "name": "python3"
  },
  "language_info": {
   "codemirror_mode": {
    "name": "ipython",
    "version": 2
   },
   "file_extension": ".py",
   "mimetype": "text/x-python",
   "name": "python",
   "nbconvert_exporter": "python",
   "pygments_lexer": "ipython2",
   "version": "2.7.6"
  }
 },
 "nbformat": 4,
 "nbformat_minor": 0
}
